{
  "nbformat": 4,
  "nbformat_minor": 0,
  "metadata": {
    "colab": {
      "provenance": [],
      "authorship_tag": "ABX9TyPyXYQLq2mQRnjoEyuc+eXk",
      "include_colab_link": true
    },
    "kernelspec": {
      "name": "python3",
      "display_name": "Python 3"
    },
    "language_info": {
      "name": "python"
    }
  },
  "cells": [
    {
      "cell_type": "markdown",
      "metadata": {
        "id": "view-in-github",
        "colab_type": "text"
      },
      "source": [
        "<a href=\"https://colab.research.google.com/github/yeyfreya/TECHIN-509-Food-List/blob/main/Week_4_Flood_Fill_Function_Ye_Yu_Freya.ipynb\" target=\"_parent\"><img src=\"https://colab.research.google.com/assets/colab-badge.svg\" alt=\"Open In Colab\"/></a>"
      ]
    },
    {
      "cell_type": "markdown",
      "source": [
        "#Flood Fill Function\n",
        "\n",
        "Flood-fill is a common algorithm used to fill connected regions of the board with a new value based on a specified condition. The code takes an input board, an old value, a new value, and coordinates (x, y) as arguments. It recursively updates the board by changing the old value to the new value for all connected cells.\n",
        "\n",
        "For the code itself, please implement the flood fill function, which builds on the concepts of functions and recursions discussed in Week 3. The starter code for the code:\n"
      ],
      "metadata": {
        "id": "l20rI_ZN0z82"
      }
    },
    {
      "cell_type": "code",
      "source": [
        "board = [\n",
        "    \"......................\",\n",
        "    \"......##########......\",\n",
        "    \"......#........#......\",\n",
        "    \"......#........#......\",\n",
        "    \"......#........#####..\",\n",
        "    \"....###............#..\",\n",
        "    \"....#............###..\",\n",
        "    \"....##############....\",\n",
        "]\n",
        "\n",
        "\n",
        "def flood_fill(input_board, old, new, x, y):\n",
        "    \"\"\"Returns board with old values replaced with new values\n",
        "    through flood filling starting from the coordinates x, y\n",
        "    Args:\n",
        "        input_board (List[str]): The input board\n",
        "        old (str): Value to be replaced\n",
        "        new (str): Value that replaces the old\n",
        "        x (int): X-coordinate of the flood start point\n",
        "        y (int): Y-coordinate of the flood start point\n",
        "    Returns:\n",
        "        List[str]: Modified board\n",
        "    \"\"\"\n",
        "\n",
        "    # Implement your code here.\n",
        "\n",
        "    if input_board[x][y] != old:\n",
        "        return input_board\n",
        "\n",
        "    def fill(x, y):\n",
        "        if x < 0 or x >= len(input_board) or y < 0 or y >= len(input_board[0]) or input_board[x][y] != old:\n",
        "            return\n",
        "\n",
        "        row = list(input_board[x])\n",
        "        row[y] = new\n",
        "        new_row = \"\"\n",
        "        for n in row:\n",
        "            new_row += n\n",
        "        input_board[x] = new_row\n",
        "\n",
        "        fill(x + 1, y)\n",
        "        fill(x - 1, y)\n",
        "        fill(x, y + 1)\n",
        "        fill(x, y - 1)\n",
        "\n",
        "    fill(x, y)\n",
        "    return input_board\n",
        "\n",
        "\n",
        "modified_board = flood_fill(input_board=board, old=\".\", new=\"~\", x=5, y=12)\n",
        "\n",
        "for a in modified_board:\n",
        "    print(a)\n",
        "\n",
        "# Expected output:\n",
        "# ......................\n",
        "# ......##########......\n",
        "# ......#~~~~~~~~#......\n",
        "# ......#~~~~~~~~#......\n",
        "# ......#~~~~~~~~#####..\n",
        "# ....###~~~~~~~~~~~~#..\n",
        "# ....#~~~~~~~~~~~~###..\n",
        "# ....##############....\n",
        "\n",
        "modified_board = flood_fill(input_board=board, old=\".\", new=\"~\", x=1, y=1)\n",
        "\n",
        "for a in modified_board:\n",
        "    print(a)\n",
        "\n",
        "# Expected output:\n",
        "#~~~~~~~~~~~~~~~~~~~~~~\n",
        "#~~~~~~##########~~~~~~\n",
        "#~~~~~~#........#~~~~~~\n",
        "#~~~~~~#........#~~~~~~\n",
        "#~~~~~~#........#####~~\n",
        "#~~~~###............#~~\n",
        "#~~~~#............###~~\n",
        "#~~~~##############~~~~"
      ],
      "metadata": {
        "colab": {
          "base_uri": "https://localhost:8080/"
        },
        "id": "Dqmq9HbJV22Q",
        "outputId": "9454c609-442a-41f1-b4a4-0f6b3b199533"
      },
      "execution_count": null,
      "outputs": [
        {
          "output_type": "stream",
          "name": "stdout",
          "text": [
            "......................\n",
            "......##########......\n",
            "......#~~~~~~~~#......\n",
            "......#~~~~~~~~#......\n",
            "......#~~~~~~~~#####..\n",
            "....###~~~~~~~~~~~~#..\n",
            "....#~~~~~~~~~~~~###..\n",
            "....##############....\n",
            "~~~~~~~~~~~~~~~~~~~~~~\n",
            "~~~~~~##########~~~~~~\n",
            "~~~~~~#~~~~~~~~#~~~~~~\n",
            "~~~~~~#~~~~~~~~#~~~~~~\n",
            "~~~~~~#~~~~~~~~#####~~\n",
            "~~~~###~~~~~~~~~~~~#~~\n",
            "~~~~#~~~~~~~~~~~~###~~\n",
            "~~~~##############~~~~\n"
          ]
        }
      ]
    },
    {
      "cell_type": "code",
      "source": [],
      "metadata": {
        "id": "8InHua-1Y7v4"
      },
      "execution_count": null,
      "outputs": []
    }
  ]
}